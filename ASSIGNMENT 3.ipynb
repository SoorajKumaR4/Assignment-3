{
 "cells": [
  {
   "cell_type": "markdown",
   "id": "5283c0ad",
   "metadata": {},
   "source": [
    "1. Why are functions advantageous to have in your programs?\n",
    "\n",
    "A. With functions we can avoid repeating codes.  This makes program shorter and easy to understand and saves time."
   ]
  },
  {
   "cell_type": "markdown",
   "id": "2d6f2563",
   "metadata": {},
   "source": [
    "2. When does the code in a function run: when it's specified or when it's called?\n",
    "\n",
    "A. Code in a function runs when it is called."
   ]
  },
  {
   "cell_type": "markdown",
   "id": "5ba7779c",
   "metadata": {},
   "source": [
    "3. What statement creates a function?\n",
    "\n",
    "A. Function is created with keyword def."
   ]
  },
  {
   "cell_type": "markdown",
   "id": "a4ff74dd",
   "metadata": {},
   "source": [
    "4. What is the difference between a function and a function call?\n",
    "\n",
    "A. A function is a block of code that does a particular operation and returns a result.  Function call is used to call the block of code developed to create a partiular function."
   ]
  },
  {
   "cell_type": "markdown",
   "id": "04e2ead1",
   "metadata": {},
   "source": [
    "5. How many global scopes are there in a Python program? How many local scopes?\n",
    "\n",
    "A. There is only one global Python scope per program.  However, local scoped can be called multiple times within the program."
   ]
  },
  {
   "cell_type": "markdown",
   "id": "b686320d",
   "metadata": {},
   "source": [
    "6. What happens to variables in a local scope when the function call returns?\n",
    "\n",
    "A. The local variable is destroyed after the call returns."
   ]
  },
  {
   "cell_type": "markdown",
   "id": "39ad6f8f",
   "metadata": {},
   "source": [
    "7. What is the concept of a return value? Is it possible to have a return value in an expression?\n",
    "\n",
    "A. A return statement is used to end the execution of the function call and returns the result. We can use return value directly as an expression."
   ]
  },
  {
   "cell_type": "markdown",
   "id": "11388269",
   "metadata": {},
   "source": [
    "8. If a function does not have a return statement, what is the return value of a call to that function?\n",
    "\n",
    "A. If a function does not specify a return value, it returns none."
   ]
  },
  {
   "cell_type": "markdown",
   "id": "37d33e06",
   "metadata": {},
   "source": [
    "9. How do you make a function variable refer to the global variable?\n",
    "\n",
    "A. We can make a function refer to global variable by declaring it as global within each function that assigns a value to it."
   ]
  },
  {
   "cell_type": "markdown",
   "id": "f0a68629",
   "metadata": {},
   "source": [
    "10. What is the data type of None?\n",
    "\n",
    "A. None is a data type of its own (NoneType)."
   ]
  },
  {
   "cell_type": "markdown",
   "id": "65cdb120",
   "metadata": {},
   "source": [
    "11. What does the sentence import areallyourpetsnamederic do?\n",
    "\n",
    "A. No module named 'reallyourpetsnamederic'"
   ]
  },
  {
   "cell_type": "markdown",
   "id": "575ca3fe",
   "metadata": {},
   "source": [
    "12. If you had a bacon() feature in a spam module, what would you call it after importing spam?\n",
    "\n",
    "A. spam.bacon()"
   ]
  },
  {
   "cell_type": "markdown",
   "id": "992b3eed",
   "metadata": {},
   "source": [
    "13. What can you do to save a programme from crashing if it encounters an error?\n",
    "\n",
    "A. We can use try and except block that protects program from crashes."
   ]
  },
  {
   "cell_type": "markdown",
   "id": "c7efee43",
   "metadata": {},
   "source": [
    "14. What is the purpose of the try clause? What is the purpose of the except clause?\n",
    "\n",
    "A. Try statement tests code for an error.  If an error is encountered, we use except clause to run."
   ]
  }
 ],
 "metadata": {
  "kernelspec": {
   "display_name": "Python 3 (ipykernel)",
   "language": "python",
   "name": "python3"
  },
  "language_info": {
   "codemirror_mode": {
    "name": "ipython",
    "version": 3
   },
   "file_extension": ".py",
   "mimetype": "text/x-python",
   "name": "python",
   "nbconvert_exporter": "python",
   "pygments_lexer": "ipython3",
   "version": "3.9.7"
  }
 },
 "nbformat": 4,
 "nbformat_minor": 5
}
